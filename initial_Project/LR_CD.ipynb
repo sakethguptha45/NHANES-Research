{
 "cells": [
  {
   "cell_type": "code",
   "execution_count": 35,
   "metadata": {},
   "outputs": [],
   "source": [
    "import pandas as pd\n",
    "import numpy as np\n",
    "from statsmodels.discrete.discrete_model import Logit\n",
    "from statsmodels.tools import add_constant\n",
    "from sklearn.model_selection import train_test_split\n",
    "from sklearn.metrics import roc_curve, auc\n",
    "import matplotlib.pyplot as plt"
   ]
  },
  {
   "cell_type": "code",
   "execution_count": 36,
   "metadata": {},
   "outputs": [],
   "source": [
    "%store -r machine_data"
   ]
  },
  {
   "cell_type": "code",
   "execution_count": 37,
   "metadata": {},
   "outputs": [],
   "source": [
    "X = machine_data.drop(columns='Health_status')\n",
    "\n",
    "# Ensuring target is integer\n",
    "y = machine_data['Health_status'].astype(int)"
   ]
  },
  {
   "cell_type": "code",
   "execution_count": 38,
   "metadata": {},
   "outputs": [],
   "source": [
    "X_train, X_test, y_train, y_test = train_test_split(\n",
    "    X, y, test_size=0.2, random_state=42, stratify=y\n",
    ")"
   ]
  },
  {
   "cell_type": "code",
   "execution_count": 39,
   "metadata": {},
   "outputs": [
    {
     "name": "stdout",
     "output_type": "stream",
     "text": [
      "                           Logit Regression Results                           \n",
      "==============================================================================\n",
      "Dep. Variable:          Health_status   No. Observations:                 3403\n",
      "Model:                          Logit   Df Residuals:                     3369\n",
      "Method:                           MLE   Df Model:                           33\n",
      "Date:                Wed, 30 Apr 2025   Pseudo R-squ.:                  0.1746\n",
      "Time:                        00:19:54   Log-Likelihood:                -1509.1\n",
      "converged:                       True   LL-Null:                       -1828.3\n",
      "Covariance Type:            nonrobust   LLR p-value:                3.119e-113\n",
      "=====================================================================================\n",
      "                        coef    std err          z      P>|z|      [0.025      0.975]\n",
      "-------------------------------------------------------------------------------------\n",
      "const                -1.7998      0.324     -5.562      0.000      -2.434      -1.166\n",
      "PA_mean              -0.4010      0.169     -2.378      0.017      -0.732      -0.071\n",
      "PA_std                0.2056      0.150      1.371      0.170      -0.088       0.500\n",
      "WW_mean               0.4070      0.195      2.091      0.037       0.025       0.788\n",
      "WW_std               -0.1394      0.100     -1.388      0.165      -0.336       0.057\n",
      "SW_mean               0.0237      0.129      0.184      0.854      -0.228       0.276\n",
      "SW_std                0.1192      0.061      1.943      0.052      -0.001       0.239\n",
      "NW_mean               0.2789      0.226      1.234      0.217      -0.164       0.722\n",
      "NW_std               -0.1382      0.096     -1.441      0.150      -0.326       0.050\n",
      "VWA                   0.2186      0.150      1.457      0.145      -0.075       0.513\n",
      "MWA                   0.0785      0.109      0.720      0.471      -0.135       0.292\n",
      "W/B                   0.1424      0.104      1.370      0.171      -0.061       0.346\n",
      "VRC                   0.6438      0.161      3.988      0.000       0.327       0.960\n",
      "MRC                   0.4031      0.104      3.869      0.000       0.199       0.607\n",
      "Gender               -0.0906      0.098     -0.929      0.353      -0.282       0.101\n",
      "Age                   0.0045      0.003      1.313      0.189      -0.002       0.011\n",
      "US_born               0.0150      0.014      1.036      0.300      -0.013       0.043\n",
      "Arthritis             0.2949      0.096      3.082      0.002       0.107       0.482\n",
      "Lose_weight           0.5424      0.121      4.475      0.000       0.305       0.780\n",
      "Excercise             0.6799      0.118      5.749      0.000       0.448       0.912\n",
      "Con_lost_weight      -0.1348      0.102     -1.326      0.185      -0.334       0.064\n",
      "increase_exercise     0.0174      0.109      0.159      0.874      -0.197       0.232\n",
      "HH_Income_16.0       -0.3394      0.231     -1.471      0.141      -0.792       0.113\n",
      "HH_Income_2.0        -0.4865      0.118     -4.113      0.000      -0.718      -0.255\n",
      "HH_Income_3.0        -0.6562      0.155     -4.233      0.000      -0.960      -0.352\n",
      "HH_Income_4.0        -1.4229      0.171     -8.302      0.000      -1.759      -1.087\n",
      "HH_Income_5.0        -0.2349      0.233     -1.009      0.313      -0.691       0.221\n",
      "HH_size_2.0           0.1069      0.133      0.804      0.421      -0.154       0.367\n",
      "HH_size_3.0           0.2624      0.169      1.552      0.121      -0.069       0.594\n",
      "Edu_level_2.0        -0.5449      0.167     -3.260      0.001      -0.873      -0.217\n",
      "Edu_level_3.0        -0.8320      0.161     -5.167      0.000      -1.148      -0.516\n",
      "Edu_level_4.0        -1.0723      0.161     -6.665      0.000      -1.388      -0.757\n",
      "Edu_level_5.0        -1.3820      0.187     -7.386      0.000      -1.749      -1.015\n",
      "Edu_level_6.0        -0.7751      0.280     -2.770      0.006      -1.324      -0.227\n",
      "=====================================================================================\n"
     ]
    },
    {
     "name": "stderr",
     "output_type": "stream",
     "text": [
      "/opt/anaconda3/lib/python3.9/site-packages/statsmodels/tsa/tsatools.py:142: FutureWarning: In a future version of pandas all arguments of concat except for the argument 'objs' will be keyword-only\n",
      "  x = pd.concat(x[::order], 1)\n"
     ]
    }
   ],
   "source": [
    "\n",
    "\n",
    "# Adding the  intercept and cast to float\n",
    "X_train_const = add_constant(X_train).astype(float)\n",
    "X_test_const  = add_constant(X_test) .astype(float)\n",
    "\n",
    "# Fitting the logistic regression\n",
    "logit_model = Logit(y_train, X_train_const).fit(disp=False)\n",
    "\n",
    "# Summary of the logit model\n",
    "print(logit_model.summary())"
   ]
  },
  {
   "cell_type": "code",
   "execution_count": 40,
   "metadata": {},
   "outputs": [
    {
     "name": "stdout",
     "output_type": "stream",
     "text": [
      "AUC: 0.758\n"
     ]
    }
   ],
   "source": [
    "y_pred_prob = logit_model.predict(X_test_const)\n",
    "fpr, tpr, _ = roc_curve(y_test, y_pred_prob)\n",
    "roc_auc = auc(fpr, tpr)\n",
    "print(f\"AUC: {roc_auc:.3f}\")\n"
   ]
  },
  {
   "cell_type": "code",
   "execution_count": 41,
   "metadata": {},
   "outputs": [
    {
     "name": "stdout",
     "output_type": "stream",
     "text": [
      "AUC: 0.758\n"
     ]
    },
    {
     "data": {
      "image/png": "[encoded data removed]",
      "text/plain": [
       "<Figure size 432x288 with 1 Axes>"
      ]
     },
     "metadata": {
      "needs_background": "light"
     },
     "output_type": "display_data"
    }
   ],
   "source": [
    "fpr, tpr, thresholds = roc_curve(y_test, y_pred_prob)\n",
    "roc_auc = auc(fpr, tpr)\n",
    "print(f\"AUC: {roc_auc:.3f}\")\n",
    "\n",
    "# pick the threshold closest to 0.5 (you can choose another value)\n",
    "th = 0.5\n",
    "idx = np.argmin(np.abs(thresholds - th))\n",
    "sens = tpr[idx]                    # sensitivity = TPR at that threshold\n",
    "spec = 1 - fpr[idx]                # specificity = 1 - FPR\n",
    "\n",
    "# plot ROC\n",
    "plt.plot(fpr, tpr, label=f\"ROC (AUC = {roc_auc:.3f})\")\n",
    "plt.plot([0,1], [0,1], \"--\", linewidth=1, color=\"gray\")\n",
    "\n",
    "# mark & annotate the chosen point\n",
    "plt.scatter(fpr[idx], tpr[idx], color=\"red\", zorder=5)\n",
    "plt.text(\n",
    "    fpr[idx] + 0.02, tpr[idx] - 0.02,\n",
    "    f\"Threshold = {th}\\nSensitivity = {sens:.2f}\\nSpecificity = {spec:.2f}\",\n",
    "    fontsize=10,\n",
    "    bbox=dict(boxstyle=\"round,pad=0.3\", fc=\"white\", ec=\"red\", alpha=0.7)\n",
    ")\n",
    "\n",
    "plt.xlabel(\"False Positive Rate (1 – Specificity)\")\n",
    "plt.ylabel(\"True Positive Rate (Sensitivity)\")\n",
    "plt.title(\"ROC Curve with Sensitivity & Specificity\")\n",
    "plt.legend(loc=\"lower right\")\n",
    "plt.tight_layout()\n",
    "plt.show()"
   ]
  },
  {
   "cell_type": "code",
   "execution_count": 44,
   "metadata": {},
   "outputs": [
    {
     "name": "stdout",
     "output_type": "stream",
     "text": [
      "F1-score: 0.28\n",
      "              precision    recall  f1-score   support\n",
      "\n",
      "           0       0.80      0.93      0.86       657\n",
      "           1       0.46      0.21      0.28       194\n",
      "\n",
      "    accuracy                           0.76       851\n",
      "   macro avg       0.63      0.57      0.57       851\n",
      "weighted avg       0.72      0.76      0.73       851\n",
      "\n"
     ]
    }
   ],
   "source": [
    "from sklearn.metrics import f1_score, classification_report\n",
    "\n",
    "# Generate binary predictions at your chosen threshold (e.g. 0.5)\n",
    "y_pred = (y_pred_prob >= 0.5).astype(int)\n",
    "\n",
    "# Compute F1-score\n",
    "f1 = f1_score(y_test, y_pred)\n",
    "print(f\"F1-score: {f1:.2f}\")\n",
    "\n",
    "# Full classification breakdown\n",
    "print(classification_report(y_test, y_pred, digits=2))"
   ]
  },
  {
   "cell_type": "code",
   "execution_count": null,
   "metadata": {},
   "outputs": [],
   "source": []
  }
 ],
 "metadata": {
  "kernelspec": {
   "display_name": "base",
   "language": "python",
   "name": "python3"
  },
  "language_info": {
   "codemirror_mode": {
    "name": "ipython",
    "version": 3
   },
   "file_extension": ".py",
   "mimetype": "text/x-python",
   "name": "python",
   "nbconvert_exporter": "python",
   "pygments_lexer": "ipython3",
   "version": "3.9.7"
  }
 },
 "nbformat": 4,
 "nbformat_minor": 2
}
