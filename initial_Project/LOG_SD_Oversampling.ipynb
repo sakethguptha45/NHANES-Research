{
 "cells": [
  {
   "cell_type": "code",
   "execution_count": 1,
   "metadata": {},
   "outputs": [],
   "source": [
    "%store -r sub_data"
   ]
  },
  {
   "cell_type": "code",
   "execution_count": 2,
   "metadata": {},
   "outputs": [
    {
     "name": "stdout",
     "output_type": "stream",
     "text": [
      "Accuracy: Mean = 0.6798, Std = 0.0049\n",
      "F1 Macro: Mean = 0.6329, Std = 0.0046\n",
      "AUC:      Mean = 0.7563, Std = 0.0025\n"
     ]
    }
   ],
   "source": [
    "from sklearn.linear_model import LogisticRegression\n",
    "from sklearn.metrics import accuracy_score, f1_score, roc_auc_score\n",
    "from sklearn.model_selection import train_test_split\n",
    "from imblearn.over_sampling import RandomOverSampler\n",
    "import numpy as np\n",
    "\n",
    "# Split original data\n",
    "X = sub_data.drop(columns=['Health_status'])\n",
    "Y = sub_data['Health_status']\n",
    "X_train, X_test, y_train, y_test = train_test_split(\n",
    "    X, Y, test_size=0.2, stratify=Y, random_state=42\n",
    ")\n",
    "\n",
    "# Store metrics\n",
    "accuracies = []\n",
    "f1_macros = []\n",
    "auc_scores = []\n",
    "\n",
    "# Loop over 100 different random states\n",
    "for i in range(100):\n",
    "    # Oversample training data\n",
    "    ros = RandomOverSampler(random_state=i)\n",
    "    X_resampled, y_resampled = ros.fit_resample(X_train, y_train)\n",
    "\n",
    "    # Train model\n",
    "    lr = LogisticRegression(class_weight='balanced', max_iter=1000, solver='liblinear')\n",
    "\n",
    "    lr.fit(X_resampled, y_resampled)\n",
    "\n",
    "    # Predict and evaluate\n",
    "    y_pred = lr.predict(X_test)\n",
    "    y_prob = lr.predict_proba(X_test)[:, 1]  # for AUC\n",
    "\n",
    "    acc = accuracy_score(y_test, y_pred)\n",
    "    f1 = f1_score(y_test, y_pred, average='macro')\n",
    "    auc = roc_auc_score(y_test, y_prob)\n",
    "\n",
    "    accuracies.append(acc)\n",
    "    f1_macros.append(f1)\n",
    "    auc_scores.append(auc)\n",
    "\n",
    "# Print results\n",
    "print(f\"Accuracy: Mean = {np.mean(accuracies):.4f}, Std = {np.std(accuracies):.4f}\")\n",
    "print(f\"F1 Macro: Mean = {np.mean(f1_macros):.4f}, Std = {np.std(f1_macros):.4f}\")\n",
    "print(f\"AUC:      Mean = {np.mean(auc_scores):.4f}, Std = {np.std(auc_scores):.4f}\")\n"
   ]
  },
  {
   "cell_type": "code",
   "execution_count": null,
   "metadata": {},
   "outputs": [],
   "source": []
  }
 ],
 "metadata": {
  "kernelspec": {
   "display_name": "base",
   "language": "python",
   "name": "python3"
  },
  "language_info": {
   "codemirror_mode": {
    "name": "ipython",
    "version": 3
   },
   "file_extension": ".py",
   "mimetype": "text/x-python",
   "name": "python",
   "nbconvert_exporter": "python",
   "pygments_lexer": "ipython3",
   "version": "3.9.7"
  }
 },
 "nbformat": 4,
 "nbformat_minor": 2
}
