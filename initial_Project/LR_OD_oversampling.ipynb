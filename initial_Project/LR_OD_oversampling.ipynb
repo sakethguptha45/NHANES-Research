{
 "cells": [
  {
   "cell_type": "code",
   "execution_count": 1,
   "metadata": {},
   "outputs": [],
   "source": [
    "import pandas as pd\n",
    "import numpy as np\n",
    "from statsmodels.discrete.discrete_model import Logit\n",
    "from statsmodels.tools import add_constant\n",
    "from sklearn.model_selection import train_test_split\n",
    "from sklearn.metrics import roc_curve, auc\n",
    "import matplotlib.pyplot as plt\n",
    "from imblearn.over_sampling import RandomOverSampler "
   ]
  },
  {
   "cell_type": "code",
   "execution_count": 2,
   "metadata": {},
   "outputs": [],
   "source": [
    "%store -r obj_data"
   ]
  },
  {
   "cell_type": "code",
   "execution_count": 4,
   "metadata": {},
   "outputs": [],
   "source": [
    "X = obj_data.drop(columns='Health_status')\n",
    "y = obj_data['Health_status'].astype(int)\n",
    "\n",
    "# Train-test split\n",
    "X_train, X_test, y_train, y_test = train_test_split(X, y, test_size=0.2, random_state=42, stratify=y)"
   ]
  },
  {
   "cell_type": "code",
   "execution_count": 5,
   "metadata": {},
   "outputs": [
    {
     "name": "stdout",
     "output_type": "stream",
     "text": [
      "                           Logit Regression Results                           \n",
      "==============================================================================\n",
      "Dep. Variable:          Health_status   No. Observations:                 5252\n",
      "Model:                          Logit   Df Residuals:                     5228\n",
      "Method:                           MLE   Df Model:                           23\n",
      "Date:                Wed, 30 Apr 2025   Pseudo R-squ.:                  0.1360\n",
      "Time:                        11:42:34   Log-Likelihood:                -3145.2\n",
      "converged:                       True   LL-Null:                       -3640.4\n",
      "Covariance Type:            nonrobust   LLR p-value:                1.509e-194\n",
      "==================================================================================\n",
      "                     coef    std err          z      P>|z|      [0.025      0.975]\n",
      "----------------------------------------------------------------------------------\n",
      "const              0.3912      0.184      2.121      0.034       0.030       0.753\n",
      "PA_mean           -0.5385      0.111     -4.872      0.000      -0.755      -0.322\n",
      "PA_std             0.1756      0.098      1.797      0.072      -0.016       0.367\n",
      "WW_mean            0.4499      0.125      3.598      0.000       0.205       0.695\n",
      "WW_std            -0.0817      0.066     -1.244      0.214      -0.210       0.047\n",
      "SW_mean           -0.0562      0.085     -0.660      0.510      -0.223       0.111\n",
      "SW_std             0.1425      0.041      3.437      0.001       0.061       0.224\n",
      "NW_mean            0.1854      0.148      1.252      0.211      -0.105       0.476\n",
      "NW_std            -0.1675      0.063     -2.661      0.008      -0.291      -0.044\n",
      "Gender             0.1130      0.062      1.818      0.069      -0.009       0.235\n",
      "Age                0.0177      0.002      8.437      0.000       0.014       0.022\n",
      "US_born            0.0139      0.016      0.871      0.384      -0.017       0.045\n",
      "HH_Income_16.0    -0.5003      0.160     -3.132      0.002      -0.813      -0.187\n",
      "HH_Income_2.0     -0.5443      0.081     -6.719      0.000      -0.703      -0.385\n",
      "HH_Income_3.0     -0.7764      0.101     -7.670      0.000      -0.975      -0.578\n",
      "HH_Income_4.0     -1.7013      0.111    -15.336      0.000      -1.919      -1.484\n",
      "HH_Income_5.0     -0.3327      0.159     -2.089      0.037      -0.645      -0.021\n",
      "HH_size_2.0        0.1656      0.090      1.839      0.066      -0.011       0.342\n",
      "HH_size_3.0        0.3271      0.115      2.846      0.004       0.102       0.552\n",
      "Edu_level_2.0     -0.6436      0.126     -5.114      0.000      -0.890      -0.397\n",
      "Edu_level_3.0     -0.9133      0.119     -7.668      0.000      -1.147      -0.680\n",
      "Edu_level_4.0     -1.1551      0.117     -9.840      0.000      -1.385      -0.925\n",
      "Edu_level_5.0     -1.4951      0.130    -11.467      0.000      -1.751      -1.240\n",
      "Edu_level_6.0     -1.0023      0.190     -5.265      0.000      -1.375      -0.629\n",
      "==================================================================================\n"
     ]
    },
    {
     "name": "stderr",
     "output_type": "stream",
     "text": [
      "/opt/anaconda3/lib/python3.9/site-packages/statsmodels/tsa/tsatools.py:142: FutureWarning: In a future version of pandas all arguments of concat except for the argument 'objs' will be keyword-only\n",
      "  x = pd.concat(x[::order], 1)\n"
     ]
    }
   ],
   "source": [
    "# Apply oversampling to the training set\n",
    "ros = RandomOverSampler(random_state=42)\n",
    "X_resampled, y_resampled = ros.fit_resample(X_train, y_train)\n",
    "\n",
    "# Add intercept and convert to float (for statsmodels)\n",
    "X_resampled_const = add_constant(X_resampled).astype(float)\n",
    "X_test_const = add_constant(X_test).astype(float)\n",
    "\n",
    "# Fit the logistic regression model on resampled data\n",
    "logit_model = Logit(y_resampled, X_resampled_const).fit(disp=False)\n",
    "\n",
    "# Show model summary\n",
    "print(logit_model.summary())\n"
   ]
  },
  {
   "cell_type": "code",
   "execution_count": 6,
   "metadata": {},
   "outputs": [
    {
     "name": "stdout",
     "output_type": "stream",
     "text": [
      "AUC: 0.701\n"
     ]
    }
   ],
   "source": [
    "# Predict probabilities on the test set\n",
    "y_pred_prob = logit_model.predict(X_test_const)\n",
    "\n",
    "# Compute ROC and AUC\n",
    "fpr, tpr, thresholds = roc_curve(y_test, y_pred_prob)\n",
    "roc_auc = auc(fpr, tpr)\n",
    "print(f\"AUC: {roc_auc:.3f}\")"
   ]
  },
  {
   "cell_type": "code",
   "execution_count": 7,
   "metadata": {},
   "outputs": [
    {
     "data": {
      "image/png": "[encoded data removed]",
      "text/plain": [
       "<Figure size 432x288 with 1 Axes>"
      ]
     },
     "metadata": {
      "needs_background": "light"
     },
     "output_type": "display_data"
    }
   ],
   "source": [
    "# Choose a threshold (0.5 by default)\n",
    "th = 0.5\n",
    "idx = np.argmin(np.abs(thresholds - th))\n",
    "sens = tpr[idx]\n",
    "spec = 1 - fpr[idx]\n",
    "\n",
    "# Plot ROC Curve\n",
    "plt.plot(fpr, tpr, label=f\"ROC (AUC = {roc_auc:.3f})\")\n",
    "plt.plot([0,1], [0,1], \"--\", linewidth=1, color=\"gray\")\n",
    "\n",
    "# Mark chosen point\n",
    "plt.scatter(fpr[idx], tpr[idx], color=\"red\", zorder=5)\n",
    "plt.text(\n",
    "    fpr[idx] + 0.02, tpr[idx] - 0.02,\n",
    "    f\"Threshold = {th}\\nSensitivity = {sens:.2f}\\nSpecificity = {spec:.2f}\",\n",
    "    fontsize=10,\n",
    "    bbox=dict(boxstyle=\"round,pad=0.3\", fc=\"white\", ec=\"red\", alpha=0.7)\n",
    ")\n",
    "\n",
    "plt.xlabel(\"False Positive Rate (1 – Specificity)\")\n",
    "plt.ylabel(\"True Positive Rate (Sensitivity)\")\n",
    "plt.title(\"ROC Curve with Sensitivity & Specificity (After Oversampling)\")\n",
    "plt.legend(loc=\"lower right\")\n",
    "plt.tight_layout()\n",
    "plt.show()"
   ]
  },
  {
   "cell_type": "code",
   "execution_count": 8,
   "metadata": {},
   "outputs": [
    {
     "name": "stdout",
     "output_type": "stream",
     "text": [
      "F1-score: 0.46\n",
      "              precision    recall  f1-score   support\n",
      "\n",
      "           0       0.87      0.65      0.74       657\n",
      "           1       0.36      0.66      0.46       194\n",
      "\n",
      "    accuracy                           0.65       851\n",
      "   macro avg       0.61      0.66      0.60       851\n",
      "weighted avg       0.75      0.65      0.68       851\n",
      "\n"
     ]
    }
   ],
   "source": [
    "from sklearn.metrics import f1_score, classification_report\n",
    "\n",
    "# 1) Generate binary predictions at your chosen threshold (e.g. 0.5)\n",
    "y_pred = (y_pred_prob >= 0.5).astype(int)\n",
    "\n",
    "# 2) Compute F1-score\n",
    "f1 = f1_score(y_test, y_pred)\n",
    "print(f\"F1-score: {f1:.2f}\")\n",
    "\n",
    "# 3) (Optional) Full classification breakdown\n",
    "print(classification_report(y_test, y_pred, digits=2))"
   ]
  },
  {
   "cell_type": "code",
   "execution_count": null,
   "metadata": {},
   "outputs": [],
   "source": []
  }
 ],
 "metadata": {
  "kernelspec": {
   "display_name": "base",
   "language": "python",
   "name": "python3"
  },
  "language_info": {
   "codemirror_mode": {
    "name": "ipython",
    "version": 3
   },
   "file_extension": ".py",
   "mimetype": "text/x-python",
   "name": "python",
   "nbconvert_exporter": "python",
   "pygments_lexer": "ipython3",
   "version": "3.9.7"
  }
 },
 "nbformat": 4,
 "nbformat_minor": 2
}
