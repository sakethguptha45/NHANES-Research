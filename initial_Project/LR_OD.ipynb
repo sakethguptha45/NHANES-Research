{
 "cells": [
  {
   "cell_type": "code",
   "execution_count": 1,
   "metadata": {},
   "outputs": [],
   "source": [
    "import pandas as pd\n",
    "import numpy as np\n",
    "from statsmodels.discrete.discrete_model import Logit\n",
    "from statsmodels.tools import add_constant\n",
    "from sklearn.model_selection import train_test_split\n",
    "from sklearn.metrics import roc_curve, auc\n",
    "import matplotlib.pyplot as plt"
   ]
  },
  {
   "cell_type": "code",
   "execution_count": 2,
   "metadata": {},
   "outputs": [],
   "source": [
    "%store -r obj_data"
   ]
  },
  {
   "cell_type": "code",
   "execution_count": 3,
   "metadata": {},
   "outputs": [],
   "source": [
    "X = obj_data.drop(columns='Health_status')\n",
    "\n",
    "# Ensuring target is integer\n",
    "y = obj_data['Health_status'].astype(int)"
   ]
  },
  {
   "cell_type": "code",
   "execution_count": 4,
   "metadata": {},
   "outputs": [],
   "source": [
    "X_train, X_test, y_train, y_test = train_test_split(\n",
    "    X, y, test_size=0.2, random_state=42, stratify=y\n",
    ")"
   ]
  },
  {
   "cell_type": "code",
   "execution_count": 5,
   "metadata": {},
   "outputs": [
    {
     "name": "stdout",
     "output_type": "stream",
     "text": [
      "                           Logit Regression Results                           \n",
      "==============================================================================\n",
      "Dep. Variable:          Health_status   No. Observations:                 3403\n",
      "Model:                          Logit   Df Residuals:                     3379\n",
      "Method:                           MLE   Df Model:                           23\n",
      "Date:                Wed, 30 Apr 2025   Pseudo R-squ.:                  0.1189\n",
      "Time:                        11:37:58   Log-Likelihood:                -1610.8\n",
      "converged:                       True   LL-Null:                       -1828.3\n",
      "Covariance Type:            nonrobust   LLR p-value:                 1.155e-77\n",
      "==================================================================================\n",
      "                     coef    std err          z      P>|z|      [0.025      0.975]\n",
      "----------------------------------------------------------------------------------\n",
      "const             -0.7852      0.253     -3.104      0.002      -1.281      -0.289\n",
      "PA_mean           -0.4902      0.164     -2.995      0.003      -0.811      -0.169\n",
      "PA_std             0.1346      0.145      0.926      0.355      -0.150       0.419\n",
      "WW_mean            0.4181      0.185      2.258      0.024       0.055       0.781\n",
      "WW_std            -0.0668      0.097     -0.690      0.490      -0.256       0.123\n",
      "SW_mean           -0.0077      0.122     -0.063      0.949      -0.246       0.231\n",
      "SW_std             0.1332      0.058      2.282      0.022       0.019       0.248\n",
      "NW_mean            0.2397      0.214      1.122      0.262      -0.179       0.658\n",
      "NW_std            -0.1714      0.092     -1.863      0.063      -0.352       0.009\n",
      "Gender             0.1865      0.090      2.075      0.038       0.010       0.363\n",
      "Age                0.0151      0.003      5.075      0.000       0.009       0.021\n",
      "US_born            0.0167      0.015      1.138      0.255      -0.012       0.045\n",
      "HH_Income_16.0    -0.3883      0.222     -1.747      0.081      -0.824       0.047\n",
      "HH_Income_2.0     -0.5263      0.113     -4.641      0.000      -0.749      -0.304\n",
      "HH_Income_3.0     -0.7237      0.148     -4.879      0.000      -1.014      -0.433\n",
      "HH_Income_4.0     -1.4625      0.165     -8.848      0.000      -1.786      -1.139\n",
      "HH_Income_5.0     -0.2263      0.224     -1.012      0.311      -0.665       0.212\n",
      "HH_size_2.0        0.1696      0.127      1.333      0.183      -0.080       0.419\n",
      "HH_size_3.0        0.3335      0.163      2.050      0.040       0.015       0.652\n",
      "Edu_level_2.0     -0.6071      0.161     -3.771      0.000      -0.923      -0.292\n",
      "Edu_level_3.0     -0.8948      0.154     -5.794      0.000      -1.198      -0.592\n",
      "Edu_level_4.0     -1.1647      0.154     -7.558      0.000      -1.467      -0.863\n",
      "Edu_level_5.0     -1.5522      0.180     -8.615      0.000      -1.905      -1.199\n",
      "Edu_level_6.0     -0.9884      0.270     -3.666      0.000      -1.517      -0.460\n",
      "==================================================================================\n"
     ]
    },
    {
     "name": "stderr",
     "output_type": "stream",
     "text": [
      "/opt/anaconda3/lib/python3.9/site-packages/statsmodels/tsa/tsatools.py:142: FutureWarning: In a future version of pandas all arguments of concat except for the argument 'objs' will be keyword-only\n",
      "  x = pd.concat(x[::order], 1)\n"
     ]
    }
   ],
   "source": [
    "\n",
    "\n",
    "# Adding the  intercept and cast to float\n",
    "X_train_const = add_constant(X_train).astype(float)\n",
    "X_test_const  = add_constant(X_test) .astype(float)\n",
    "\n",
    "# Fitting the logistic regression\n",
    "logit_model = Logit(y_train, X_train_const).fit(disp=False)\n",
    "\n",
    "# Summary of the logit model\n",
    "print(logit_model.summary())"
   ]
  },
  {
   "cell_type": "code",
   "execution_count": 6,
   "metadata": {},
   "outputs": [
    {
     "name": "stdout",
     "output_type": "stream",
     "text": [
      "AUC: 0.704\n"
     ]
    }
   ],
   "source": [
    "y_pred_prob = logit_model.predict(X_test_const)\n",
    "fpr, tpr, _ = roc_curve(y_test, y_pred_prob)\n",
    "roc_auc = auc(fpr, tpr)\n",
    "print(f\"AUC: {roc_auc:.3f}\")\n"
   ]
  },
  {
   "cell_type": "code",
   "execution_count": 7,
   "metadata": {},
   "outputs": [
    {
     "name": "stdout",
     "output_type": "stream",
     "text": [
      "AUC: 0.704\n"
     ]
    },
    {
     "data": {
      "image/png": "[encoded data removed]",
      "text/plain": [
       "<Figure size 432x288 with 1 Axes>"
      ]
     },
     "metadata": {
      "needs_background": "light"
     },
     "output_type": "display_data"
    }
   ],
   "source": [
    "fpr, tpr, thresholds = roc_curve(y_test, y_pred_prob)\n",
    "roc_auc = auc(fpr, tpr)\n",
    "print(f\"AUC: {roc_auc:.3f}\")\n",
    "\n",
    "# pick the threshold closest to 0.5 (you can choose another value)\n",
    "th = 0.5\n",
    "idx = np.argmin(np.abs(thresholds - th))\n",
    "sens = tpr[idx]                    # sensitivity = TPR at that threshold\n",
    "spec = 1 - fpr[idx]                # specificity = 1 - FPR\n",
    "\n",
    "# plot ROC\n",
    "plt.plot(fpr, tpr, label=f\"ROC (AUC = {roc_auc:.3f})\")\n",
    "plt.plot([0,1], [0,1], \"--\", linewidth=1, color=\"gray\")\n",
    "\n",
    "# mark & annotate the chosen point\n",
    "plt.scatter(fpr[idx], tpr[idx], color=\"red\", zorder=5)\n",
    "plt.text(\n",
    "    fpr[idx] + 0.02, tpr[idx] - 0.02,\n",
    "    f\"Threshold = {th}\\nSensitivity = {sens:.2f}\\nSpecificity = {spec:.2f}\",\n",
    "    fontsize=10,\n",
    "    bbox=dict(boxstyle=\"round,pad=0.3\", fc=\"white\", ec=\"red\", alpha=0.7)\n",
    ")\n",
    "\n",
    "plt.xlabel(\"False Positive Rate (1 – Specificity)\")\n",
    "plt.ylabel(\"True Positive Rate (Sensitivity)\")\n",
    "plt.title(\"ROC Curve with Sensitivity & Specificity\")\n",
    "plt.legend(loc=\"lower right\")\n",
    "plt.tight_layout()\n",
    "plt.show()"
   ]
  },
  {
   "cell_type": "code",
   "execution_count": 8,
   "metadata": {},
   "outputs": [
    {
     "name": "stdout",
     "output_type": "stream",
     "text": [
      "F1-score: 0.19\n",
      "              precision    recall  f1-score   support\n",
      "\n",
      "           0       0.79      0.96      0.87       657\n",
      "           1       0.49      0.12      0.19       194\n",
      "\n",
      "    accuracy                           0.77       851\n",
      "   macro avg       0.64      0.54      0.53       851\n",
      "weighted avg       0.72      0.77      0.71       851\n",
      "\n"
     ]
    }
   ],
   "source": [
    "from sklearn.metrics import f1_score, classification_report\n",
    "\n",
    "# Generate binary predictions at your chosen threshold (e.g. 0.5)\n",
    "y_pred = (y_pred_prob >= 0.5).astype(int)\n",
    "\n",
    "# Compute F1-score\n",
    "f1 = f1_score(y_test, y_pred)\n",
    "print(f\"F1-score: {f1:.2f}\")\n",
    "\n",
    "# Full classification breakdown\n",
    "print(classification_report(y_test, y_pred, digits=2))"
   ]
  },
  {
   "cell_type": "code",
   "execution_count": null,
   "metadata": {},
   "outputs": [],
   "source": []
  }
 ],
 "metadata": {
  "kernelspec": {
   "display_name": "base",
   "language": "python",
   "name": "python3"
  },
  "language_info": {
   "codemirror_mode": {
    "name": "ipython",
    "version": 3
   },
   "file_extension": ".py",
   "mimetype": "text/x-python",
   "name": "python",
   "nbconvert_exporter": "python",
   "pygments_lexer": "ipython3",
   "version": "3.9.7"
  }
 },
 "nbformat": 4,
 "nbformat_minor": 2
}
