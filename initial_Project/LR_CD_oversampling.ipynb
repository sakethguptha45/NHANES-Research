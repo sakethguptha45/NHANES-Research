{
 "cells": [
  {
   "cell_type": "code",
   "execution_count": 1,
   "metadata": {},
   "outputs": [],
   "source": [
    "import pandas as pd\n",
    "import numpy as np\n",
    "from statsmodels.discrete.discrete_model import Logit\n",
    "from statsmodels.tools import add_constant\n",
    "from sklearn.model_selection import train_test_split\n",
    "from sklearn.metrics import roc_curve, auc\n",
    "import matplotlib.pyplot as plt\n",
    "from imblearn.over_sampling import RandomOverSampler "
   ]
  },
  {
   "cell_type": "code",
   "execution_count": 3,
   "metadata": {},
   "outputs": [],
   "source": [
    "%store -r machine_data"
   ]
  },
  {
   "cell_type": "code",
   "execution_count": 4,
   "metadata": {},
   "outputs": [],
   "source": [
    "X = machine_data.drop(columns='Health_status')\n",
    "y = machine_data['Health_status'].astype(int)\n",
    "\n",
    "# Train-test split\n",
    "X_train, X_test, y_train, y_test = train_test_split(\n",
    "    X, y, test_size=0.2, random_state=42, stratify=y\n",
    ")"
   ]
  },
  {
   "cell_type": "code",
   "execution_count": 5,
   "metadata": {},
   "outputs": [
    {
     "name": "stdout",
     "output_type": "stream",
     "text": [
      "                           Logit Regression Results                           \n",
      "==============================================================================\n",
      "Dep. Variable:          Health_status   No. Observations:                 5252\n",
      "Model:                          Logit   Df Residuals:                     5218\n",
      "Method:                           MLE   Df Model:                           33\n",
      "Date:                Tue, 29 Apr 2025   Pseudo R-squ.:                  0.1975\n",
      "Time:                        23:21:45   Log-Likelihood:                -2921.4\n",
      "converged:                       True   LL-Null:                       -3640.4\n",
      "Covariance Type:            nonrobust   LLR p-value:                2.071e-281\n",
      "=====================================================================================\n",
      "                        coef    std err          z      P>|z|      [0.025      0.975]\n",
      "-------------------------------------------------------------------------------------\n",
      "const                -0.3800      0.222     -1.712      0.087      -0.815       0.055\n",
      "PA_mean              -0.4609      0.116     -3.976      0.000      -0.688      -0.234\n",
      "PA_std                0.2550      0.103      2.484      0.013       0.054       0.456\n",
      "WW_mean               0.4315      0.133      3.247      0.001       0.171       0.692\n",
      "WW_std               -0.1595      0.070     -2.292      0.022      -0.296      -0.023\n",
      "SW_mean              -0.0173      0.091     -0.191      0.849      -0.195       0.160\n",
      "SW_std                0.1195      0.044      2.711      0.007       0.033       0.206\n",
      "NW_mean               0.2175      0.158      1.374      0.169      -0.093       0.528\n",
      "NW_std               -0.1272      0.067     -1.898      0.058      -0.259       0.004\n",
      "VWA                   0.1105      0.102      1.085      0.278      -0.089       0.310\n",
      "MWA                   0.0461      0.077      0.602      0.547      -0.104       0.196\n",
      "W/B                   0.0628      0.072      0.877      0.381      -0.078       0.203\n",
      "VRC                   0.5421      0.101      5.381      0.000       0.345       0.740\n",
      "MRC                   0.4007      0.071      5.619      0.000       0.261       0.540\n",
      "Gender               -0.1401      0.068     -2.056      0.040      -0.274      -0.007\n",
      "Age                   0.0065      0.002      2.686      0.007       0.002       0.011\n",
      "US_born               0.0108      0.017      0.652      0.514      -0.022       0.043\n",
      "Arthritis             0.4400      0.076      5.820      0.000       0.292       0.588\n",
      "Lose_weight           0.6084      0.088      6.877      0.000       0.435       0.782\n",
      "Excercise             0.6703      0.085      7.908      0.000       0.504       0.836\n",
      "Con_lost_weight      -0.2259      0.071     -3.162      0.002      -0.366      -0.086\n",
      "increase_exercise     0.0577      0.077      0.748      0.455      -0.093       0.209\n",
      "HH_Income_16.0       -0.4576      0.165     -2.770      0.006      -0.781      -0.134\n",
      "HH_Income_2.0        -0.5194      0.085     -6.123      0.000      -0.686      -0.353\n",
      "HH_Income_3.0        -0.6808      0.107     -6.361      0.000      -0.891      -0.471\n",
      "HH_Income_4.0        -1.6847      0.117    -14.378      0.000      -1.914      -1.455\n",
      "HH_Income_5.0        -0.3179      0.168     -1.895      0.058      -0.647       0.011\n",
      "HH_size_2.0           0.1215      0.095      1.278      0.201      -0.065       0.308\n",
      "HH_size_3.0           0.3058      0.120      2.544      0.011       0.070       0.541\n",
      "Edu_level_2.0        -0.5851      0.130     -4.515      0.000      -0.839      -0.331\n",
      "Edu_level_3.0        -0.8707      0.123     -7.076      0.000      -1.112      -0.630\n",
      "Edu_level_4.0        -1.0741      0.122     -8.804      0.000      -1.313      -0.835\n",
      "Edu_level_5.0        -1.3672      0.136    -10.048      0.000      -1.634      -1.100\n",
      "Edu_level_6.0        -0.7827      0.198     -3.945      0.000      -1.172      -0.394\n",
      "=====================================================================================\n"
     ]
    },
    {
     "name": "stderr",
     "output_type": "stream",
     "text": [
      "/opt/anaconda3/lib/python3.9/site-packages/statsmodels/tsa/tsatools.py:142: FutureWarning: In a future version of pandas all arguments of concat except for the argument 'objs' will be keyword-only\n",
      "  x = pd.concat(x[::order], 1)\n"
     ]
    }
   ],
   "source": [
    "# Apply oversampling to the training set\n",
    "ros = RandomOverSampler(random_state=42)\n",
    "X_resampled, y_resampled = ros.fit_resample(X_train, y_train)\n",
    "\n",
    "# Add intercept and convert to float (for statsmodels)\n",
    "X_resampled_const = add_constant(X_resampled).astype(float)\n",
    "X_test_const = add_constant(X_test).astype(float)\n",
    "\n",
    "# Fit the logistic regression model on resampled data\n",
    "logit_model = Logit(y_resampled, X_resampled_const).fit(disp=False)\n",
    "\n",
    "# Show model summary\n",
    "print(logit_model.summary())\n"
   ]
  },
  {
   "cell_type": "code",
   "execution_count": 6,
   "metadata": {},
   "outputs": [
    {
     "name": "stdout",
     "output_type": "stream",
     "text": [
      "AUC: 0.753\n"
     ]
    }
   ],
   "source": [
    "# Predict probabilities on the test set\n",
    "y_pred_prob = logit_model.predict(X_test_const)\n",
    "\n",
    "# Compute ROC and AUC\n",
    "fpr, tpr, thresholds = roc_curve(y_test, y_pred_prob)\n",
    "roc_auc = auc(fpr, tpr)\n",
    "print(f\"AUC: {roc_auc:.3f}\")"
   ]
  },
  {
   "cell_type": "code",
   "execution_count": 7,
   "metadata": {},
   "outputs": [
    {
     "data": {
      "image/png": "[encoded data removed]",
      "text/plain": [
       "<Figure size 432x288 with 1 Axes>"
      ]
     },
     "metadata": {
      "needs_background": "light"
     },
     "output_type": "display_data"
    }
   ],
   "source": [
    "# Choose a threshold (0.5 by default)\n",
    "th = 0.5\n",
    "idx = np.argmin(np.abs(thresholds - th))\n",
    "sens = tpr[idx]\n",
    "spec = 1 - fpr[idx]\n",
    "\n",
    "# Plot ROC Curve\n",
    "plt.plot(fpr, tpr, label=f\"ROC (AUC = {roc_auc:.3f})\")\n",
    "plt.plot([0,1], [0,1], \"--\", linewidth=1, color=\"gray\")\n",
    "\n",
    "# Mark chosen point\n",
    "plt.scatter(fpr[idx], tpr[idx], color=\"red\", zorder=5)\n",
    "plt.text(\n",
    "    fpr[idx] + 0.02, tpr[idx] - 0.02,\n",
    "    f\"Threshold = {th}\\nSensitivity = {sens:.2f}\\nSpecificity = {spec:.2f}\",\n",
    "    fontsize=10,\n",
    "    bbox=dict(boxstyle=\"round,pad=0.3\", fc=\"white\", ec=\"red\", alpha=0.7)\n",
    ")\n",
    "\n",
    "plt.xlabel(\"False Positive Rate (1 – Specificity)\")\n",
    "plt.ylabel(\"True Positive Rate (Sensitivity)\")\n",
    "plt.title(\"ROC Curve with Sensitivity & Specificity (After Oversampling)\")\n",
    "plt.legend(loc=\"lower right\")\n",
    "plt.tight_layout()\n",
    "plt.show()"
   ]
  },
  {
   "cell_type": "code",
   "execution_count": null,
   "metadata": {},
   "outputs": [
    {
     "name": "stdout",
     "output_type": "stream",
     "text": [
      "F1-score: 0.50\n",
      "              precision    recall  f1-score   support\n",
      "\n",
      "           0       0.88      0.69      0.77       657\n",
      "           1       0.39      0.69      0.50       194\n",
      "\n",
      "    accuracy                           0.69       851\n",
      "   macro avg       0.64      0.69      0.64       851\n",
      "weighted avg       0.77      0.69      0.71       851\n",
      "\n"
     ]
    }
   ],
   "source": [
    "from sklearn.metrics import f1_score, classification_report\n",
    "\n",
    "# Generate binary predictions at your chosen threshold (e.g. 0.5)\n",
    "y_pred = (y_pred_prob >= 0.5).astype(int)\n",
    "\n",
    "# Compute F1-score\n",
    "f1 = f1_score(y_test, y_pred)\n",
    "print(f\"F1-score: {f1:.2f}\")\n",
    "\n",
    "# Full classification breakdown\n",
    "print(classification_report(y_test, y_pred, digits=2))"
   ]
  },
  {
   "cell_type": "code",
   "execution_count": null,
   "metadata": {},
   "outputs": [],
   "source": []
  }
 ],
 "metadata": {
  "kernelspec": {
   "display_name": "base",
   "language": "python",
   "name": "python3"
  },
  "language_info": {
   "codemirror_mode": {
    "name": "ipython",
    "version": 3
   },
   "file_extension": ".py",
   "mimetype": "text/x-python",
   "name": "python",
   "nbconvert_exporter": "python",
   "pygments_lexer": "ipython3",
   "version": "3.9.7"
  }
 },
 "nbformat": 4,
 "nbformat_minor": 2
}
