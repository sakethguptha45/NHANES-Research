{
 "cells": [
  {
   "cell_type": "code",
   "execution_count": 1,
   "metadata": {},
   "outputs": [],
   "source": [
    "%store -r sub_data"
   ]
  },
  {
   "cell_type": "code",
   "execution_count": 2,
   "metadata": {},
   "outputs": [],
   "source": [
    "import pandas as pd\n",
    "import numpy as np\n",
    "from statsmodels.discrete.discrete_model import Logit\n",
    "from statsmodels.tools import add_constant\n",
    "from sklearn.model_selection import train_test_split\n",
    "from sklearn.metrics import roc_curve, auc\n",
    "import matplotlib.pyplot as plt\n",
    "from imblearn.over_sampling import RandomOverSampler "
   ]
  },
  {
   "cell_type": "code",
   "execution_count": 4,
   "metadata": {},
   "outputs": [],
   "source": [
    "X = sub_data.drop(columns='Health_status')\n",
    "y = sub_data['Health_status'].astype(int)\n",
    "\n",
    "# Train-test split\n",
    "X_train, X_test, y_train, y_test = train_test_split( X, y, test_size=0.2, random_state=42, stratify=y )"
   ]
  },
  {
   "cell_type": "code",
   "execution_count": 5,
   "metadata": {},
   "outputs": [
    {
     "name": "stdout",
     "output_type": "stream",
     "text": [
      "                           Logit Regression Results                           \n",
      "==============================================================================\n",
      "Dep. Variable:          Health_status   No. Observations:                 5252\n",
      "Model:                          Logit   Df Residuals:                     5226\n",
      "Method:                           MLE   Df Model:                           25\n",
      "Date:                Wed, 30 Apr 2025   Pseudo R-squ.:                  0.1929\n",
      "Time:                        12:58:17   Log-Likelihood:                -2938.2\n",
      "converged:                       True   LL-Null:                       -3640.4\n",
      "Covariance Type:            nonrobust   LLR p-value:                4.274e-281\n",
      "=====================================================================================\n",
      "                        coef    std err          z      P>|z|      [0.025      0.975]\n",
      "-------------------------------------------------------------------------------------\n",
      "const                -0.4663      0.210     -2.216      0.027      -0.879      -0.054\n",
      "VWA                   0.1629      0.100      1.627      0.104      -0.033       0.359\n",
      "MWA                   0.0509      0.076      0.669      0.504      -0.098       0.200\n",
      "W/B                   0.0823      0.071      1.156      0.248      -0.057       0.222\n",
      "VRC                   0.5656      0.100      5.644      0.000       0.369       0.762\n",
      "MRC                   0.4118      0.071      5.804      0.000       0.273       0.551\n",
      "Gender               -0.2016      0.066     -3.046      0.002      -0.331      -0.072\n",
      "Age                   0.0069      0.002      3.106      0.002       0.003       0.011\n",
      "US_born               0.0090      0.016      0.578      0.563      -0.022       0.040\n",
      "Arthritis             0.4427      0.075      5.911      0.000       0.296       0.589\n",
      "Lose_weight           0.6035      0.088      6.895      0.000       0.432       0.775\n",
      "Excercise             0.6903      0.084      8.217      0.000       0.526       0.855\n",
      "Con_lost_weight      -0.2249      0.071     -3.171      0.002      -0.364      -0.086\n",
      "increase_exercise     0.0701      0.077      0.913      0.361      -0.080       0.220\n",
      "HH_Income_16.0       -0.4776      0.165     -2.903      0.004      -0.800      -0.155\n",
      "HH_Income_2.0        -0.5206      0.084     -6.168      0.000      -0.686      -0.355\n",
      "HH_Income_3.0        -0.6838      0.106     -6.431      0.000      -0.892      -0.475\n",
      "HH_Income_4.0        -1.6936      0.116    -14.566      0.000      -1.922      -1.466\n",
      "HH_Income_5.0        -0.3763      0.167     -2.256      0.024      -0.703      -0.049\n",
      "HH_size_2.0           0.0966      0.094      1.024      0.306      -0.088       0.281\n",
      "HH_size_3.0           0.2730      0.119      2.292      0.022       0.040       0.506\n",
      "Edu_level_2.0        -0.5485      0.128     -4.279      0.000      -0.800      -0.297\n",
      "Edu_level_3.0        -0.8499      0.122     -6.991      0.000      -1.088      -0.612\n",
      "Edu_level_4.0        -1.0295      0.120     -8.569      0.000      -1.265      -0.794\n",
      "Edu_level_5.0        -1.3269      0.134     -9.901      0.000      -1.590      -1.064\n",
      "Edu_level_6.0        -0.7571      0.197     -3.852      0.000      -1.142      -0.372\n",
      "=====================================================================================\n"
     ]
    },
    {
     "name": "stderr",
     "output_type": "stream",
     "text": [
      "/opt/anaconda3/lib/python3.9/site-packages/statsmodels/tsa/tsatools.py:142: FutureWarning: In a future version of pandas all arguments of concat except for the argument 'objs' will be keyword-only\n",
      "  x = pd.concat(x[::order], 1)\n"
     ]
    }
   ],
   "source": [
    "# Apply oversampling to the training set\n",
    "ros = RandomOverSampler(random_state=42)\n",
    "X_resampled, y_resampled = ros.fit_resample(X_train, y_train)\n",
    "\n",
    "# Add intercept and convert to float (for statsmodels)\n",
    "X_resampled_const = add_constant(X_resampled).astype(float)\n",
    "X_test_const = add_constant(X_test).astype(float)\n",
    "\n",
    "# Fit the logistic regression model on resampled data\n",
    "logit_model = Logit(y_resampled, X_resampled_const).fit(disp=False)\n",
    "\n",
    "# Show model summary\n",
    "print(logit_model.summary())"
   ]
  },
  {
   "cell_type": "code",
   "execution_count": 6,
   "metadata": {},
   "outputs": [
    {
     "name": "stdout",
     "output_type": "stream",
     "text": [
      "AUC: 0.751\n"
     ]
    }
   ],
   "source": [
    "# Predict probabilities on the test set\n",
    "y_pred_prob = logit_model.predict(X_test_const)\n",
    "\n",
    "# Compute ROC and AUC\n",
    "fpr, tpr, thresholds = roc_curve(y_test, y_pred_prob)\n",
    "roc_auc = auc(fpr, tpr)\n",
    "print(f\"AUC: {roc_auc:.3f}\")"
   ]
  },
  {
   "cell_type": "code",
   "execution_count": 7,
   "metadata": {},
   "outputs": [
    {
     "data": {
      "image/png": "[encoded data removed]",
      "text/plain": [
       "<Figure size 432x288 with 1 Axes>"
      ]
     },
     "metadata": {
      "needs_background": "light"
     },
     "output_type": "display_data"
    }
   ],
   "source": [
    "# Choose a threshold (0.5 by default)\n",
    "th = 0.5\n",
    "idx = np.argmin(np.abs(thresholds - th))\n",
    "sens = tpr[idx]\n",
    "spec = 1 - fpr[idx]\n",
    "\n",
    "# Plot ROC Curve\n",
    "plt.plot(fpr, tpr, label=f\"ROC (AUC = {roc_auc:.3f})\")\n",
    "plt.plot([0,1], [0,1], \"--\", linewidth=1, color=\"gray\")\n",
    "\n",
    "# Mark chosen point\n",
    "plt.scatter(fpr[idx], tpr[idx], color=\"red\", zorder=5)\n",
    "plt.text(\n",
    "    fpr[idx] + 0.02, tpr[idx] - 0.02,\n",
    "    f\"Threshold = {th}\\nSensitivity = {sens:.2f}\\nSpecificity = {spec:.2f}\",\n",
    "    fontsize=10,\n",
    "    bbox=dict(boxstyle=\"round,pad=0.3\", fc=\"white\", ec=\"red\", alpha=0.7)\n",
    ")\n",
    "\n",
    "plt.xlabel(\"False Positive Rate (1 – Specificity)\")\n",
    "plt.ylabel(\"True Positive Rate (Sensitivity)\")\n",
    "plt.title(\"ROC Curve with Sensitivity & Specificity (After Oversampling)\")\n",
    "plt.legend(loc=\"lower right\")\n",
    "plt.tight_layout()\n",
    "plt.show()"
   ]
  },
  {
   "cell_type": "code",
   "execution_count": 8,
   "metadata": {},
   "outputs": [
    {
     "name": "stdout",
     "output_type": "stream",
     "text": [
      "F1-score: 0.50\n",
      "              precision    recall  f1-score   support\n",
      "\n",
      "           0       0.88      0.68      0.76       657\n",
      "           1       0.39      0.69      0.50       194\n",
      "\n",
      "    accuracy                           0.68       851\n",
      "   macro avg       0.63      0.68      0.63       851\n",
      "weighted avg       0.77      0.68      0.70       851\n",
      "\n"
     ]
    }
   ],
   "source": [
    "from sklearn.metrics import f1_score, classification_report\n",
    "\n",
    "# 1) Generate binary predictions at your chosen threshold (e.g. 0.5)\n",
    "y_pred = (y_pred_prob >= 0.5).astype(int)\n",
    "\n",
    "# 2) Compute F1-score\n",
    "f1 = f1_score(y_test, y_pred)\n",
    "print(f\"F1-score: {f1:.2f}\")\n",
    "\n",
    "# 3) (Optional) Full classification breakdown\n",
    "print(classification_report(y_test, y_pred, digits=2))"
   ]
  },
  {
   "cell_type": "code",
   "execution_count": null,
   "metadata": {},
   "outputs": [],
   "source": []
  }
 ],
 "metadata": {
  "kernelspec": {
   "display_name": "base",
   "language": "python",
   "name": "python3"
  },
  "language_info": {
   "codemirror_mode": {
    "name": "ipython",
    "version": 3
   },
   "file_extension": ".py",
   "mimetype": "text/x-python",
   "name": "python",
   "nbconvert_exporter": "python",
   "pygments_lexer": "ipython3",
   "version": "3.9.7"
  }
 },
 "nbformat": 4,
 "nbformat_minor": 2
}
