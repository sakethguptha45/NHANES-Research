{
 "cells": [
  {
   "cell_type": "code",
   "execution_count": 1,
   "metadata": {},
   "outputs": [],
   "source": [
    "%store -r sub_data"
   ]
  },
  {
   "cell_type": "code",
   "execution_count": 2,
   "metadata": {},
   "outputs": [],
   "source": [
    "import pandas as pd\n",
    "import numpy as np\n",
    "from statsmodels.discrete.discrete_model import Logit\n",
    "from statsmodels.tools import add_constant\n",
    "from sklearn.model_selection import train_test_split\n",
    "from sklearn.metrics import roc_curve, auc\n",
    "import matplotlib.pyplot as plt"
   ]
  },
  {
   "cell_type": "code",
   "execution_count": 3,
   "metadata": {},
   "outputs": [],
   "source": [
    "X = sub_data.drop(columns='Health_status')\n",
    "\n",
    "# Ensuring target is integer\n",
    "y = sub_data['Health_status']"
   ]
  },
  {
   "cell_type": "code",
   "execution_count": 4,
   "metadata": {},
   "outputs": [],
   "source": [
    "X_train, X_test, y_train, y_test = train_test_split( X, y, test_size=0.2, random_state=42, stratify=y )"
   ]
  },
  {
   "cell_type": "code",
   "execution_count": 5,
   "metadata": {},
   "outputs": [
    {
     "name": "stdout",
     "output_type": "stream",
     "text": [
      "                           Logit Regression Results                           \n",
      "==============================================================================\n",
      "Dep. Variable:          Health_status   No. Observations:                 3403\n",
      "Model:                          Logit   Df Residuals:                     3377\n",
      "Method:                           MLE   Df Model:                           25\n",
      "Date:                Wed, 30 Apr 2025   Pseudo R-squ.:                  0.1701\n",
      "Time:                        12:48:53   Log-Likelihood:                -1517.3\n",
      "converged:                       True   LL-Null:                       -1828.3\n",
      "Covariance Type:            nonrobust   LLR p-value:                3.133e-115\n",
      "=====================================================================================\n",
      "                        coef    std err          z      P>|z|      [0.025      0.975]\n",
      "-------------------------------------------------------------------------------------\n",
      "const                -1.8833      0.309     -6.100      0.000      -2.488      -1.278\n",
      "VWA                   0.2502      0.148      1.692      0.091      -0.040       0.540\n",
      "MWA                   0.0917      0.108      0.847      0.397      -0.120       0.304\n",
      "W/B                   0.1566      0.103      1.517      0.129      -0.046       0.359\n",
      "VRC                   0.6688      0.161      4.161      0.000       0.354       0.984\n",
      "MRC                   0.4128      0.104      3.985      0.000       0.210       0.616\n",
      "Gender               -0.1440      0.095     -1.521      0.128      -0.329       0.042\n",
      "Age                   0.0054      0.003      1.755      0.079      -0.001       0.011\n",
      "US_born               0.0149      0.014      1.047      0.295      -0.013       0.043\n",
      "Arthritis             0.2983      0.094      3.167      0.002       0.114       0.483\n",
      "Lose_weight           0.5438      0.120      4.521      0.000       0.308       0.780\n",
      "Excercise             0.6935      0.117      5.904      0.000       0.463       0.924\n",
      "Con_lost_weight      -0.1414      0.102     -1.391      0.164      -0.341       0.058\n",
      "increase_exercise     0.0187      0.109      0.172      0.864      -0.195       0.232\n",
      "HH_Income_16.0       -0.3555      0.230     -1.547      0.122      -0.806       0.095\n",
      "HH_Income_2.0        -0.4938      0.118     -4.194      0.000      -0.725      -0.263\n",
      "HH_Income_3.0        -0.6781      0.154     -4.415      0.000      -0.979      -0.377\n",
      "HH_Income_4.0        -1.4435      0.170     -8.472      0.000      -1.777      -1.110\n",
      "HH_Income_5.0        -0.2707      0.232     -1.169      0.242      -0.725       0.183\n",
      "HH_size_2.0           0.0856      0.132      0.648      0.517      -0.174       0.345\n",
      "HH_size_3.0           0.2258      0.168      1.344      0.179      -0.103       0.555\n",
      "Edu_level_2.0        -0.5109      0.166     -3.086      0.002      -0.835      -0.186\n",
      "Edu_level_3.0        -0.8189      0.160     -5.134      0.000      -1.132      -0.506\n",
      "Edu_level_4.0        -1.0310      0.159     -6.499      0.000      -1.342      -0.720\n",
      "Edu_level_5.0        -1.3504      0.185     -7.304      0.000      -1.713      -0.988\n",
      "Edu_level_6.0        -0.7371      0.277     -2.659      0.008      -1.280      -0.194\n",
      "=====================================================================================\n"
     ]
    },
    {
     "name": "stderr",
     "output_type": "stream",
     "text": [
      "/opt/anaconda3/lib/python3.9/site-packages/statsmodels/tsa/tsatools.py:142: FutureWarning: In a future version of pandas all arguments of concat except for the argument 'objs' will be keyword-only\n",
      "  x = pd.concat(x[::order], 1)\n"
     ]
    }
   ],
   "source": [
    "# Adding the  intercept and cast to float\n",
    "X_train_const = add_constant(X_train).astype(float)\n",
    "X_test_const  = add_constant(X_test) .astype(float)\n",
    "\n",
    "# Fitting the logistic regression\n",
    "logit_model = Logit(y_train, X_train_const).fit(disp=False)\n",
    "\n",
    "# Summary of the logit model\n",
    "print(logit_model.summary())"
   ]
  },
  {
   "cell_type": "code",
   "execution_count": 6,
   "metadata": {},
   "outputs": [
    {
     "name": "stdout",
     "output_type": "stream",
     "text": [
      "AUC: 0.756\n"
     ]
    }
   ],
   "source": [
    "y_pred_prob = logit_model.predict(X_test_const)\n",
    "fpr, tpr, _ = roc_curve(y_test, y_pred_prob)\n",
    "roc_auc = auc(fpr, tpr)\n",
    "print(f\"AUC: {roc_auc:.3f}\")"
   ]
  },
  {
   "cell_type": "code",
   "execution_count": 7,
   "metadata": {},
   "outputs": [
    {
     "name": "stdout",
     "output_type": "stream",
     "text": [
      "AUC: 0.756\n"
     ]
    },
    {
     "data": {
      "image/png": "[encoded data removed]",
      "text/plain": [
       "<Figure size 432x288 with 1 Axes>"
      ]
     },
     "metadata": {
      "needs_background": "light"
     },
     "output_type": "display_data"
    }
   ],
   "source": [
    "fpr, tpr, thresholds = roc_curve(y_test, y_pred_prob)\n",
    "roc_auc = auc(fpr, tpr)\n",
    "print(f\"AUC: {roc_auc:.3f}\")\n",
    "\n",
    "# pick the threshold closest to 0.5 (you can choose another value)\n",
    "th = 0.5\n",
    "idx = np.argmin(np.abs(thresholds - th))\n",
    "sens = tpr[idx]                    # sensitivity = TPR at that threshold\n",
    "spec = 1 - fpr[idx]                # specificity = 1 - FPR\n",
    "\n",
    "# plot ROC\n",
    "plt.plot(fpr, tpr, label=f\"ROC (AUC = {roc_auc:.3f})\")\n",
    "plt.plot([0,1], [0,1], \"--\", linewidth=1, color=\"gray\")\n",
    "\n",
    "# mark & annotate the chosen point\n",
    "plt.scatter(fpr[idx], tpr[idx], color=\"red\", zorder=5)\n",
    "plt.text(\n",
    "    fpr[idx] + 0.02, tpr[idx] - 0.02,\n",
    "    f\"Threshold = {th}\\nSensitivity = {sens:.2f}\\nSpecificity = {spec:.2f}\",\n",
    "    fontsize=10,\n",
    "    bbox=dict(boxstyle=\"round,pad=0.3\", fc=\"white\", ec=\"red\", alpha=0.7)\n",
    ")\n",
    "\n",
    "plt.xlabel(\"False Positive Rate (1 – Specificity)\")\n",
    "plt.ylabel(\"True Positive Rate (Sensitivity)\")\n",
    "plt.title(\"ROC Curve with Sensitivity & Specificity\")\n",
    "plt.legend(loc=\"lower right\")\n",
    "plt.tight_layout()\n",
    "plt.show()"
   ]
  },
  {
   "cell_type": "code",
   "execution_count": 8,
   "metadata": {},
   "outputs": [
    {
     "name": "stdout",
     "output_type": "stream",
     "text": [
      "F1-score: 0.26\n",
      "              precision    recall  f1-score   support\n",
      "\n",
      "         0.0       0.79      0.93      0.86       657\n",
      "         1.0       0.45      0.18      0.26       194\n",
      "\n",
      "    accuracy                           0.76       851\n",
      "   macro avg       0.62      0.56      0.56       851\n",
      "weighted avg       0.72      0.76      0.72       851\n",
      "\n"
     ]
    }
   ],
   "source": [
    "from sklearn.metrics import f1_score, classification_report\n",
    "\n",
    "# Generate binary predictions at your chosen threshold (e.g. 0.5)\n",
    "y_pred = (y_pred_prob >= 0.5).astype(int)\n",
    "\n",
    "# Compute F1-score\n",
    "f1 = f1_score(y_test, y_pred)\n",
    "print(f\"F1-score: {f1:.2f}\")\n",
    "\n",
    "# Full classification breakdown\n",
    "print(classification_report(y_test, y_pred, digits=2))"
   ]
  },
  {
   "cell_type": "code",
   "execution_count": null,
   "metadata": {},
   "outputs": [],
   "source": []
  }
 ],
 "metadata": {
  "kernelspec": {
   "display_name": "base",
   "language": "python",
   "name": "python3"
  },
  "language_info": {
   "codemirror_mode": {
    "name": "ipython",
    "version": 3
   },
   "file_extension": ".py",
   "mimetype": "text/x-python",
   "name": "python",
   "nbconvert_exporter": "python",
   "pygments_lexer": "ipython3",
   "version": "3.9.7"
  }
 },
 "nbformat": 4,
 "nbformat_minor": 2
}
